{
    "cells": [
        {
            "cell_type": "markdown",
            "metadata": {
                "deletable": false,
                "editable": false,
                "nbgrader": {
                    "grade": false,
                    "locked": true,
                    "solution": false
                }
            },
            "source": [
                "## Module 2A: Assignment\n",
                "\n",
                "### Weightage: 30 Marks\n",
                "\n",
                "### Assessment task: \n",
                "\n",
                "You are recent hire that works at a start-up AI image company. Your new job requires several tasks to support the different teams of the company. Your first task is implemented an AI knowledge-based system to help customers with some of the terminology of AI. Some of the terminology is simple, i.e. names and years of famous AI events, but other terminology needs to be more detailed. In addition, the new business has been receiving malware, so your second task is write a filter that can detect the malware from genuine software. Lastly, many customers of the company provide images that require further post processing, your final task is to write an algorithm that can find portion of pixels within a single colour space. For example, it may be useful to identify one colour of pixels versus another, as in black and white photographs.\n",
                "\n",
                "If successful, the company will put your applications in productions for customers. You will therefore need to provide detailed comments in the code explaining the steps you have taken to design your solution. \n",
                "As deliverables, you will complete the following three (3) parts:\n",
                "\n",
                "#### Parts\n",
                "\n",
                "1. Programming Part 1: Write a programme that accesses a AI knowledge-base to search for facts based on the user's input.\n",
                "2. Programming Part 2: Write a programme that specifies the level of confidence in malware detection.\n",
                "3. Programming Part 3: Write a programme that implements the flood fill algorithm, identifys and changes the marked pixels.\n",
                "\n",
                "\n",
                "### Instructions:\n",
                "\n",
                "1. Complete all three parts of the assignments by write the Python codes.\n",
                "2. Run your codes to ensure that the required outputs are delivered.\n",
                "3. Submit the assignment for grading and to get feedback.\n",
                "\n"
            ]
        },
        {
            "cell_type": "markdown",
            "metadata": {
                "deletable": false,
                "editable": false,
                "nbgrader": {
                    "grade": false,
                    "locked": true,
                    "solution": false
                }
            },
            "source": [
                "## Programming Part 1: Create an AI History/Definition knowledge-based system\n",
                "\n",
                "\n",
                "\n",
                "### Assessment task:\n",
                "\n",
                "Write a programme that accesses a AI knowledge-base to search for facts based on the user's input. There are 4 steps involved, you will complete the code for step 1 and 4 only.\n",
                "\n",
                "### Marks:\n",
                "This part is worth 10 Marks. This part is divided by three assessments (3 marks, 4 marks, 3 marks).\n",
                "\n",
                "### Instructions:\n",
                "\n",
                "1. Write your Python code in place of \"your code here\" placeholder below.\n",
                "2. Run your code by clicking on 'run' cell in the toolbar before you submit.\n",
                "3. You will get the feedback once you submit the assignment.\n",
                "\n",
                "### Submission:\n",
                "\n",
                "Click on the submit button on the top right after you run the code."
            ]
        },
        {
            "cell_type": "markdown",
            "metadata": {
                "deletable": false,
                "editable": false,
                "nbgrader": {
                    "grade": false,
                    "locked": true,
                    "solution": false
                }
            },
            "source": [
                "#### Step 1\n",
                "Read through the AI text book for this course and gather facts for the AI knowledge-based system.\n",
                "\n",
                "1. Write at least five about either the history or provide definition in regards to Artifical Intelligence.\n",
                "2. At least one fact needs to integer number, at least one fact needs to string and at least one fact needs to a list.\n",
                "3. One fact needs to be defind as 'turing-test-proposed-year' i.e. in what year was the turing test proposed (Check module 1)."
            ]
        },
        {
            "cell_type": "code",
            "execution_count": null,
            "metadata": {
                "collapsed": true
            },
            "outputs": [],
            "source": [
                "# What you need to do\n",
                "# 1. Write at least five about either the history or provide definition in regards to Artifical Intelligence\n",
                "# 2. At least one fact needs to integer number, at least one fact needs to string and at least one fact needs to a list\n",
                "# 3. One fact needs to be defind as 'turing-test-proposed-year' i.e. in what year was the turing test proposed\n",
                "#       (Check module 1)\n",
                "\n",
                "\n",
                "facts = {\n",
                "    ###\n",
                "    ### YOUR CODE HERE\n",
                "    ###\n",
                "}"
            ]
        },
        {
            "cell_type": "markdown",
            "metadata": {},
            "source": [
                "#### Step 2\n",
                "Applications runs only while the running variable is 'true' which is written below."
            ]
        },
        {
            "cell_type": "code",
            "execution_count": null,
            "metadata": {
                "collapsed": true
            },
            "outputs": [],
            "source": [
                "running = True"
            ]
        },
        {
            "cell_type": "markdown",
            "metadata": {
                "deletable": false,
                "editable": false,
                "nbgrader": {
                    "grade": false,
                    "locked": true,
                    "solution": false
                }
            },
            "source": [
                "#### Step3\n",
                "\n",
                "The below code delivers a friendly message to the user by printing 'Hi, I'm an AI History/Definition Knowledge based system'."
            ]
        },
        {
            "cell_type": "code",
            "execution_count": null,
            "metadata": {
                "collapsed": true
            },
            "outputs": [],
            "source": [
                "\n",
                "print(\"Hi, I'm an AI History/Definition Knowledge based system\\n\")\n"
            ]
        },
        {
            "cell_type": "markdown",
            "metadata": {
                "deletable": false,
                "editable": false,
                "nbgrader": {
                    "grade": false,
                    "locked": true,
                    "solution": false
                }
            },
            "source": [
                "#### Step 4\n",
                "Write the code to \n",
                "a. Ask the user to enter his/her facts that may or may not be in the facts (the system should be able to handle inquiries that are not in the facts database). \n",
                "b. After getting the user-input, write the code to match the facts with the knowledge base that was defined above for three step 1. \n",
                "c. Inform the user about the identifed fact and the report back the findings.\n"
            ]
        },
        {
            "cell_type": "code",
            "execution_count": null,
            "metadata": {
                "collapsed": true
            },
            "outputs": [],
            "source": [
                "# What you need to do\n",
                "#1. Match the key terms entered by the user with the knowledge base created above. \n",
                "#2. Write your Python code below.\n",
                "#3. Run your code to ensure it is working properly.\n",
                "\n",
                "###\n",
                "### YOUR CODE HERE\n",
                "###\n"
            ]
        },
        {
            "cell_type": "code",
            "execution_count": null,
            "metadata": {
                "collapsed": true,
                "deletable": false,
                "editable": false,
                "nbgrader": {
                    "grade": true,
                    "grade_id": "Part 1.1",
                    "locked": true,
                    "points": "3",
                    "solution": false
                }
            },
            "outputs": [],
            "source": [
                "###\n",
                "### AUTOGRADER TEST - DO NOT REMOVE\n",
                "###\n"
            ]
        },
        {
            "cell_type": "code",
            "execution_count": null,
            "metadata": {
                "collapsed": true,
                "deletable": false,
                "editable": false,
                "nbgrader": {
                    "grade": true,
                    "grade_id": "Part 1.2",
                    "locked": true,
                    "points": "4",
                    "solution": false
                }
            },
            "outputs": [],
            "source": [
                "###\n",
                "### AUTOGRADER TEST - DO NOT REMOVE\n",
                "###\n"
            ]
        },
        {
            "cell_type": "code",
            "execution_count": null,
            "metadata": {
                "collapsed": true,
                "deletable": false,
                "editable": false,
                "nbgrader": {
                    "grade": true,
                    "grade_id": "Part 1.3",
                    "locked": true,
                    "points": "3",
                    "solution": false
                }
            },
            "outputs": [],
            "source": [
                "###\n",
                "### AUTOGRADER TEST - DO NOT REMOVE\n",
                "###\n"
            ]
        },
        {
            "cell_type": "markdown",
            "metadata": {
                "deletable": false,
                "editable": false,
                "nbgrader": {
                    "grade": false,
                    "locked": true,
                    "solution": false
                }
            },
            "source": [
                "## Programming Part 2: Malware Detection Bayesian Network\n",
                "\n",
                "Write a programme that specifies the level of confidence in malware detection.\n",
                "\n",
                "\n",
                "### Assessment task:\n",
                "\n",
                "In this Part 2, you'll write the code that specifies the level of confidence in malware detection. The programme consists of many steps that are partially written.\n",
                "\n",
                "### Marks:\n",
                "\n",
                "This part is of 10 Marks. This part is divided by fives assessments (2 marks each).\n",
                "\n",
                "### Instructions:\n",
                "\n",
                "1. Write your Python code in place of \"your code here\" placeholder below.\n",
                "2. Run your code by clicking on 'run' cell in the toolbar before you submit.\n",
                "3. You will get the feedback once you submit the assignment.\n",
                "\n",
                "### Submission:\n",
                "\n",
                "Click on the submit button on the top right after you run the code."
            ]
        },
        {
            "cell_type": "markdown",
            "metadata": {
                "deletable": false,
                "editable": false,
                "nbgrader": {
                    "grade": false,
                    "locked": true,
                    "solution": false
                }
            },
            "source": [
                "#### Step 1\n",
                "Import the pomegranate library."
            ]
        },
        {
            "cell_type": "code",
            "execution_count": null,
            "metadata": {
                "collapsed": true
            },
            "outputs": [],
            "source": [
                "from pomegranate import *"
            ]
        },
        {
            "cell_type": "markdown",
            "metadata": {
                "deletable": false,
                "editable": false,
                "nbgrader": {
                    "grade": false,
                    "locked": true,
                    "solution": false
                }
            },
            "source": [
                "#### Step 2\n",
                "Define the probabilities for code."
            ]
        },
        {
            "cell_type": "code",
            "execution_count": null,
            "metadata": {
                "collapsed": true
            },
            "outputs": [],
            "source": [
                "code = Node(DiscreteDistribution({\n",
                "    \"plain-text\": 0.05,\n",
                "    \"binary\": 0.7,\n",
                "    \"obfuscated\": 0.25\n",
                "}), name=\"code\")"
            ]
        },
        {
            "cell_type": "markdown",
            "metadata": {
                "deletable": false,
                "editable": false,
                "nbgrader": {
                    "grade": false,
                    "locked": true,
                    "solution": false
                }
            },
            "source": [
                "Define the probabilities for resize."
            ]
        },
        {
            "cell_type": "code",
            "execution_count": null,
            "metadata": {
                "collapsed": true
            },
            "outputs": [],
            "source": [
                "resize = Node(ConditionalProbabilityTable([\n",
                "    [\"plain-text\", \"no\", 0.95],\n",
                "    [\"plain-text\", \"yes\", 0.05],\n",
                "    [\"binary\", \"no\", 0.75],\n",
                "    [\"binary\", \"yes\", 0.25],\n",
                "    [\"obfuscated\", \"no\", 0.4],\n",
                "    [\"obfuscated\", \"yes\", 0.6]\n",
                "], [code.distribution]), name=\"resize\")"
            ]
        },
        {
            "cell_type": "markdown",
            "metadata": {
                "deletable": false,
                "editable": false,
                "nbgrader": {
                    "grade": false,
                    "locked": true,
                    "solution": false
                }
            },
            "source": [
                "Define the probabilities for signature"
            ]
        },
        {
            "cell_type": "code",
            "execution_count": null,
            "metadata": {
                "collapsed": true
            },
            "outputs": [],
            "source": [
                "signature = Node(ConditionalProbabilityTable([\n",
                "    [\"plain-text\", \"no\", \"present\", 0.8],\n",
                "    [\"plain-text\", \"no\", \"absent\", 0.2],\n",
                "    [\"plain-text\", \"yes\", \"present\", 0.9],\n",
                "    [\"plain-text\", \"yes\", \"absent\", 0.1],\n",
                "\n",
                "    [\"binary\", \"no\", \"present\", 0.6],\n",
                "    [\"binary\", \"no\", \"absent\", 0.4],\n",
                "    [\"binary\", \"yes\", \"present\", 0.8],\n",
                "    [\"binary\", \"yes\", \"absent\", 0.2],\n",
                "\n",
                "    [\"obfuscated\", \"no\", \"present\", 0.6],\n",
                "    [\"obfuscated\", \"no\", \"absent\", 0.4],\n",
                "    [\"obfuscated\", \"yes\", \"present\", 0.95],\n",
                "    [\"obfuscated\", \"yes\", \"absent\", 0.05],\n",
                "], [code.distribution, resize.distribution]), name=\"signature\")"
            ]
        },
        {
            "cell_type": "markdown",
            "metadata": {
                "deletable": false,
                "editable": false,
                "nbgrader": {
                    "grade": false,
                    "locked": true,
                    "solution": false
                }
            },
            "source": [
                "Define the probabilities for outcome"
            ]
        },
        {
            "cell_type": "code",
            "execution_count": null,
            "metadata": {
                "collapsed": true
            },
            "outputs": [],
            "source": [
                "outcome = Node(ConditionalProbabilityTable([\n",
                "    [\"present\", \"malware\", 0.9],\n",
                "    [\"present\", \"software\", 0.1],\n",
                "    [\"absent\", \"malware\", 0.4],\n",
                "    [\"absent\", \"software\", 0.6],\n",
                "], [signature.distribution]), name=\"outcome\")"
            ]
        },
        {
            "cell_type": "markdown",
            "metadata": {
                "deletable": false,
                "editable": false,
                "nbgrader": {
                    "grade": false,
                    "locked": true,
                    "solution": false
                }
            },
            "source": [
                "#### Step 3\n",
                "Create the Bayesian Network."
            ]
        },
        {
            "cell_type": "code",
            "execution_count": null,
            "metadata": {
                "collapsed": true
            },
            "outputs": [],
            "source": [
                "model = BayesianNetwork()"
            ]
        },
        {
            "cell_type": "markdown",
            "metadata": {
                "deletable": false,
                "editable": false,
                "nbgrader": {
                    "grade": false,
                    "locked": true,
                    "solution": false
                }
            },
            "source": [
                "Add the states to the network"
            ]
        },
        {
            "cell_type": "code",
            "execution_count": null,
            "metadata": {
                "collapsed": true
            },
            "outputs": [],
            "source": [
                "###\n",
                "### YOUR CODE HERE\n",
                "###\n"
            ]
        },
        {
            "cell_type": "markdown",
            "metadata": {
                "deletable": false,
                "editable": false,
                "nbgrader": {
                    "grade": false,
                    "locked": true,
                    "solution": false
                }
            },
            "source": [
                "Add the edges"
            ]
        },
        {
            "cell_type": "code",
            "execution_count": null,
            "metadata": {
                "collapsed": true
            },
            "outputs": [],
            "source": [
                "###\n",
                "### YOUR CODE HERE\n",
                "###\n"
            ]
        },
        {
            "cell_type": "markdown",
            "metadata": {
                "deletable": false,
                "editable": false,
                "nbgrader": {
                    "grade": false,
                    "locked": true,
                    "solution": false
                }
            },
            "source": [
                "Train the model"
            ]
        },
        {
            "cell_type": "code",
            "execution_count": null,
            "metadata": {
                "collapsed": true
            },
            "outputs": [],
            "source": [
                "###\n",
                "### YOUR CODE HERE\n",
                "###\n"
            ]
        },
        {
            "cell_type": "markdown",
            "metadata": {
                "deletable": false,
                "editable": false,
                "nbgrader": {
                    "grade": false,
                    "locked": true,
                    "solution": false
                }
            },
            "source": [
                "#### Step 4\n",
                "\n",
                "Define probabilities with values that need to overwritten by the model"
            ]
        },
        {
            "cell_type": "code",
            "execution_count": null,
            "metadata": {
                "collapsed": true
            },
            "outputs": [],
            "source": [
                "low_probability = 1\n",
                "medium_probability = 1\n",
                "high_probability = 0\n",
                "low_probability_prediction = 1\n",
                "high_probability_prediction = 0"
            ]
        },
        {
            "cell_type": "markdown",
            "metadata": {
                "deletable": false,
                "editable": false,
                "nbgrader": {
                    "grade": false,
                    "locked": true,
                    "solution": false
                }
            },
            "source": [
                "Calculate a probability that is less that 0.01 for a given observation (assign to low_probability)"
            ]
        },
        {
            "cell_type": "code",
            "execution_count": null,
            "metadata": {
                "collapsed": true
            },
            "outputs": [],
            "source": [
                "###\n",
                "### YOUR CODE HERE\n",
                "###\n"
            ]
        },
        {
            "cell_type": "markdown",
            "metadata": {
                "deletable": false,
                "editable": false,
                "nbgrader": {
                    "grade": false,
                    "locked": true,
                    "solution": false
                }
            },
            "source": [
                "Calculate a probability that is less than 0.1 but greater than 0.01 for a given observation (assign to medium_probability)"
            ]
        },
        {
            "cell_type": "code",
            "execution_count": null,
            "metadata": {
                "collapsed": true
            },
            "outputs": [],
            "source": [
                "###\n",
                "### YOUR CODE HERE\n",
                "###\n"
            ]
        },
        {
            "cell_type": "markdown",
            "metadata": {},
            "source": [
                "Calculate a probability that is greater than 0.1 for a given observation (assign to high_probability)"
            ]
        },
        {
            "cell_type": "code",
            "execution_count": null,
            "metadata": {
                "collapsed": true
            },
            "outputs": [],
            "source": [
                "###\n",
                "### YOUR CODE HERE\n",
                "###\n"
            ]
        },
        {
            "cell_type": "markdown",
            "metadata": {},
            "source": [
                "Calculate predictions based on the evidence that is less than 0.5 and assigned it to low_probability_prediction."
            ]
        },
        {
            "cell_type": "code",
            "execution_count": null,
            "metadata": {
                "collapsed": true
            },
            "outputs": [],
            "source": [
                "###\n",
                "### YOUR CODE HERE\n",
                "###\n",
                "\n",
                "low_probability_prediction = predictions[3].parameters[0]['software']"
            ]
        },
        {
            "cell_type": "markdown",
            "metadata": {},
            "source": [
                "Calculate predictions based on the evidence that is greater than 0.8 and assigned it to high_probability_prediction."
            ]
        },
        {
            "cell_type": "code",
            "execution_count": null,
            "metadata": {
                "collapsed": true
            },
            "outputs": [],
            "source": [
                "###\n",
                "### YOUR CODE HERE\n",
                "###\n",
                "\n",
                "high_probability_prediction = predictions[3].parameters[0]['malware']"
            ]
        },
        {
            "cell_type": "code",
            "execution_count": null,
            "metadata": {
                "collapsed": true,
                "deletable": false,
                "editable": false,
                "nbgrader": {
                    "grade": true,
                    "grade_id": "Part 2.1",
                    "locked": true,
                    "points": "2",
                    "solution": false
                }
            },
            "outputs": [],
            "source": [
                "###\n",
                "### AUTOGRADER TEST - DO NOT REMOVE\n",
                "###\n"
            ]
        },
        {
            "cell_type": "code",
            "execution_count": null,
            "metadata": {
                "collapsed": true,
                "deletable": false,
                "editable": false,
                "nbgrader": {
                    "grade": true,
                    "grade_id": "Part 2.2",
                    "locked": true,
                    "points": "2",
                    "solution": false
                }
            },
            "outputs": [],
            "source": [
                "###\n",
                "### AUTOGRADER TEST - DO NOT REMOVE\n",
                "###\n"
            ]
        },
        {
            "cell_type": "code",
            "execution_count": null,
            "metadata": {
                "collapsed": true,
                "deletable": false,
                "editable": false,
                "nbgrader": {
                    "grade": true,
                    "grade_id": "Part 2.3",
                    "locked": true,
                    "points": "2",
                    "solution": false
                }
            },
            "outputs": [],
            "source": [
                "###\n",
                "### AUTOGRADER TEST - DO NOT REMOVE\n",
                "###\n"
            ]
        },
        {
            "cell_type": "code",
            "execution_count": null,
            "metadata": {
                "collapsed": true,
                "deletable": false,
                "editable": false,
                "nbgrader": {
                    "grade": true,
                    "grade_id": "Part 2.4",
                    "locked": true,
                    "points": "2",
                    "solution": false
                }
            },
            "outputs": [],
            "source": [
                "###\n",
                "### AUTOGRADER TEST - DO NOT REMOVE\n",
                "###\n"
            ]
        },
        {
            "cell_type": "code",
            "execution_count": null,
            "metadata": {
                "collapsed": true,
                "deletable": false,
                "editable": false,
                "nbgrader": {
                    "grade": true,
                    "grade_id": "Part 2.5",
                    "locked": true,
                    "points": "2",
                    "solution": false
                }
            },
            "outputs": [],
            "source": [
                "###\n",
                "### AUTOGRADER TEST - DO NOT REMOVE\n",
                "###\n"
            ]
        },
        {
            "cell_type": "markdown",
            "metadata": {
                "deletable": false,
                "editable": false,
                "nbgrader": {
                    "grade": false,
                    "locked": true,
                    "solution": false
                }
            },
            "source": [
                "# Part 3\n",
                "\n",
                "Write a programme that implements the flood fill algorithm, identifys and changes the marked pixels. Furthermore, blank pixels are ignored.\n",
                "\n",
                "### Assessment task:\n",
                "\n",
                "In this part, you'll write the code that implements the flood fill algorithm, identifys and changes the marked pixels. Furthermore, blank pixels are ignored. To do this, you'll use any breadth first search algorithm. The code is partially written below. \n",
                "\n",
                "### Marks:\n",
                "This part is of 10 Marks. This part is divided by two assessments (5 marks each).\n",
                "\n",
                "### Instructions:\n",
                "1. Write your Python code in place of \"your code here\" placeholder below.\n",
                "2. Run your code by clicking on 'run' cell in the toolbar before you submit.\n",
                "3. You will get the feedback once you submit the assignment.\n",
                "\n",
                "### Submission:\n",
                "Click on the submit button on the top right after you run the code.\n"
            ]
        },
        {
            "cell_type": "markdown",
            "metadata": {
                "deletable": false,
                "editable": false,
                "nbgrader": {
                    "grade": false,
                    "locked": true,
                    "solution": false
                }
            },
            "source": [
                "#### Step 1: Create a Node\n",
                "\n",
                "The datapoints within the graph\n",
                "\n",
                "Do not change the structure of the Node class"
            ]
        },
        {
            "cell_type": "code",
            "execution_count": 1,
            "metadata": {
                "collapsed": true
            },
            "outputs": [],
            "source": [
                "class Node:\n",
                "    instance_count = 0\n",
                "    \n",
                "    def __init__(self, x, y):\n",
                "        self.x = x\n",
                "        self.y = y\n",
                "        self.neighbours = list()\n",
                "        \n",
                "        Node.instance_count += 1"
            ]
        },
        {
            "cell_type": "markdown",
            "metadata": {
                "deletable": false,
                "editable": false,
                "nbgrader": {
                    "grade": false,
                    "locked": true,
                    "solution": false
                }
            },
            "source": [
                "#### Step 2: Create a Start function\n",
                "\n",
                "Acts as a starting point for the flood fill algorithm"
            ]
        },
        {
            "cell_type": "code",
            "execution_count": 2,
            "metadata": {
                "collapsed": true
            },
            "outputs": [],
            "source": [
                "def start():\n",
                "\n",
                "    # Sample image represented as 2D array of numbers\n",
                "    \n",
                "    # 0 are obstacles\n",
                "    # 1 are free or empty spaces\n",
                "    \n",
                "    # A complete valid image is when the 1s have been converted to 2s once the graph.floodfill algorithm is complete.\n",
                "\n",
                "    image = [\n",
                "                [1,0,0,0,0],\n",
                "                [1,1,0,1,0],\n",
                "                [0,1,1,1,0],\n",
                "                [0,1,1,1,1],\n",
                "                [0,1,1,0,1]\n",
                "            ]\n",
                "\n",
                "    graph = Graph()\n",
                "\n",
                "    print(graph.floodFill(image, 2, 2, 2))\n",
                "    \n",
                "    # DO NOT REMOVE THIS RETURN STATEMENT!\n",
                "\n",
                "    return graph"
            ]
        },
        {
            "cell_type": "markdown",
            "metadata": {
                "deletable": false,
                "editable": false,
                "nbgrader": {
                    "grade": false,
                    "locked": true,
                    "solution": false
                }
            },
            "source": [
                "#### Step 3: Implement the flood fill algorithm\n",
                "\n",
                "Write the flood fill algorithm using breadth first search"
            ]
        },
        {
            "cell_type": "code",
            "execution_count": 3,
            "metadata": {
                "collapsed": true
            },
            "outputs": [],
            "source": [
                "class Graph:    \n",
                "    explored = set()\n",
                "\n",
                "    def floodFill(self, image, x, y, pixel):\n",
                "        start = Node(x, y)\n",
                "\n",
                "        queue = list()\n",
                "\n",
                "        queue.append(start)\n",
                "\n",
                "        # Remember to add unique x and y coordinates of newly discovered nodes to the explored set\n",
                "        \n",
                "        # Be mindful of the ordering of the search\n",
                "\n",
                "        ###\n",
                "        ### YOUR CODE HERE\n",
                "        ###\n",
                "\n",
                "        # Return the modified image represented as 2D array of numbers\n",
                "\n",
                "        return image\n",
                "\n",
                "    def neighbours(self, image, x, y, currentNode):\n",
                "        U = y - 1\n",
                "        D = y + 1\n",
                "        L = x - 1\n",
                "        R = x + 1\n",
                "        \n",
                "        # Write the neighbours function to find the neighbours in four directions for a given pixel.\n",
                "        \n",
                "        # An edge is valid if the pixel is newly discovered, i.e. an edge is created when the neighbour's pixel value is one.\n",
                "\n",
                "        # Append a valid new Node to the neighbours of the currentNode\n",
                "\n",
                "        # Remember to do boundary checking\n",
                "\n",
                "        ###\n",
                "        ### YOUR CODE HERE\n",
                "        ###\n",
                "        \n",
                "        # Return the current node's (the pixel in question) neighbours, not always a maximum of four.\n",
                "\n",
                "        return currentNode.neighbours"
            ]
        },
        {
            "cell_type": "markdown",
            "metadata": {
                "collapsed": true,
                "deletable": false,
                "editable": false,
                "nbgrader": {
                    "grade": false,
                    "locked": true,
                    "solution": false
                }
            },
            "source": [
                "#### Step 4: Call the start function\n",
                "\n",
                "By calling the start function, the function retuns the graph and its properties.\n",
                "\n",
                "This is useful to debug your algorithm.\n",
                "\n",
                "*Important Note: The output of the image is not assessed, but rather the search algorithm is assessed. No marks will be awarded, if the algorithm is only changing the pixel values from 1 to 2 without doing the flood fill correctly.*"
            ]
        },
        {
            "cell_type": "code",
            "execution_count": 4,
            "metadata": {},
            "outputs": [],
            "source": [
                "graph = start()"
            ]
        },
        {
            "cell_type": "code",
            "execution_count": 5,
            "metadata": {
                "deletable": false,
                "editable": false,
                "nbgrader": {
                    "grade": true,
                    "grade_id": "Part 3.1",
                    "locked": true,
                    "points": "5",
                    "solution": false
                }
            },
            "outputs": [],
            "source": [
                "###\n",
                "### AUTOGRADER TEST - DO NOT REMOVE\n",
                "###\n"
            ]
        },
        {
            "cell_type": "code",
            "execution_count": 7,
            "metadata": {
                "deletable": false,
                "editable": false,
                "nbgrader": {
                    "grade": true,
                    "grade_id": "Part 3.2",
                    "locked": true,
                    "points": "5",
                    "solution": false
                }
            },
            "outputs": [],
            "source": [
                "###\n",
                "### AUTOGRADER TEST - DO NOT REMOVE\n",
                "###\n"
            ]
        },
        {
            "cell_type": "code",
            "execution_count": null,
            "metadata": {
                "collapsed": true
            },
            "outputs": [],
            "source": []
        }
    ],
    "metadata": {
        "interpreter": {
            "hash": "761ea9c6c4c8cebf1ad1d0a36b1d76be18ee93efe5d64424139b0178919c4891"
        },
        "kernelspec": {
            "display_name": "Python 3 [3.7]",
            "language": "python",
            "name": "python3"
        },
        "language_info": {
            "codemirror_mode": {
                "name": "ipython",
                "version": 3
            },
            "file_extension": ".py",
            "mimetype": "text/x-python",
            "name": "python",
            "nbconvert_exporter": "python",
            "pygments_lexer": "ipython3",
            "version": "3.7.5"
        }
    },
    "nbformat": 4,
    "nbformat_minor": 2
}
